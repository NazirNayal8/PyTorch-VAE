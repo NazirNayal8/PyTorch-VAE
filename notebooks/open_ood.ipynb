{
 "cells": [
  {
   "cell_type": "code",
   "execution_count": 1,
   "metadata": {},
   "outputs": [],
   "source": [
    "import os\n",
    "os.chdir('../')\n",
    "\n",
    "%load_ext autoreload\n",
    "%autoreload 2"
   ]
  },
  {
   "cell_type": "code",
   "execution_count": 51,
   "metadata": {},
   "outputs": [],
   "source": [
    "import torch\n",
    "\n",
    "from openood.datasets import get_ood_dataloader\n",
    "from openood.evaluation_api.datasets import get_id_ood_dataloader\n",
    "from openood.evaluation_api.preprocessor import get_default_preprocessor\n",
    "from openood.evaluation_api import Evaluator\n",
    "from openood.networks import ResNet18_32x32 # just a wrapper around the ResNet\n",
    "\n",
    "from analysis.image import show_image"
   ]
  },
  {
   "attachments": {},
   "cell_type": "markdown",
   "metadata": {},
   "source": [
    "# Checking Evaluator"
   ]
  },
  {
   "cell_type": "code",
   "execution_count": 3,
   "metadata": {},
   "outputs": [
    {
     "name": "stdout",
     "output_type": "stream",
     "text": [
      "Downloading...\n",
      "From (uriginal): https://drive.google.com/uc?id=1byGeYxM_PlLjT72wZsMQvP6popJeWBgt\n",
      "From (redirected): https://drive.google.com/uc?id=1byGeYxM_PlLjT72wZsMQvP6popJeWBgt&confirm=t&uuid=267448e2-9680-46a5-9b38-d68a8be7fd35\n",
      "To: /home/nazir/wall_maria/rare/vae/PyTorch-VAE/cifar10_res18_v1.5.zip\n",
      "100%|████████████████████████████████████████| 375M/375M [01:02<00:00, 5.95MB/s]\n",
      "Archive:  cifar10_res18_v1.5.zip\n",
      "   creating: cifar10_resnet18_32x32_base_e100_lr0.1_default/\n",
      "   creating: cifar10_resnet18_32x32_base_e100_lr0.1_default/s2/\n",
      "  inflating: cifar10_resnet18_32x32_base_e100_lr0.1_default/s2/best_epoch99_acc0.9450.ckpt  \n",
      "  inflating: cifar10_resnet18_32x32_base_e100_lr0.1_default/s2/config.yml  \n",
      "  inflating: cifar10_resnet18_32x32_base_e100_lr0.1_default/s2/best.ckpt  \n",
      "  inflating: cifar10_resnet18_32x32_base_e100_lr0.1_default/s2/last_epoch100_acc0.9420.ckpt  \n",
      "  inflating: cifar10_resnet18_32x32_base_e100_lr0.1_default/s2/log.txt  \n",
      "   creating: cifar10_resnet18_32x32_base_e100_lr0.1_default/s1/\n",
      "  inflating: cifar10_resnet18_32x32_base_e100_lr0.1_default/s1/config.yml  \n",
      "  inflating: cifar10_resnet18_32x32_base_e100_lr0.1_default/s1/best.ckpt  \n",
      "  inflating: cifar10_resnet18_32x32_base_e100_lr0.1_default/s1/best_epoch95_acc0.9500.ckpt  \n",
      "  inflating: cifar10_resnet18_32x32_base_e100_lr0.1_default/s1/last_epoch100_acc0.9490.ckpt  \n",
      "  inflating: cifar10_resnet18_32x32_base_e100_lr0.1_default/s1/log.txt  \n",
      "   creating: cifar10_resnet18_32x32_base_e100_lr0.1_default/s0/\n",
      "  inflating: cifar10_resnet18_32x32_base_e100_lr0.1_default/s0/config.yml  \n",
      "  inflating: cifar10_resnet18_32x32_base_e100_lr0.1_default/s0/best.ckpt  \n",
      "  inflating: cifar10_resnet18_32x32_base_e100_lr0.1_default/s0/best_epoch96_acc0.9470.ckpt  \n",
      "  inflating: cifar10_resnet18_32x32_base_e100_lr0.1_default/s0/last_epoch100_acc0.9430.ckpt  \n",
      "  inflating: cifar10_resnet18_32x32_base_e100_lr0.1_default/s0/log.txt  \n"
     ]
    }
   ],
   "source": [
    "!gdown 1byGeYxM_PlLjT72wZsMQvP6popJeWBgt\n",
    "!unzip cifar10_res18_v1.5.zip"
   ]
  },
  {
   "cell_type": "code",
   "execution_count": 4,
   "metadata": {},
   "outputs": [],
   "source": [
    "net = ResNet18_32x32(num_classes=10)\n",
    "net.load_state_dict(\n",
    "    torch.load('./cifar10_resnet18_32x32_base_e100_lr0.1_default/s0/best.ckpt')\n",
    ")\n",
    "net.cuda()\n",
    "net.eval();"
   ]
  },
  {
   "cell_type": "code",
   "execution_count": 5,
   "metadata": {},
   "outputs": [],
   "source": [
    "postprocessor_name = \"react\" #@param [\"openmax\", \"msp\", \"temp_scaling\", \"odin\", \"mds\", \"mds_ensemble\", \"rmds\", \"gram\", \"ebo\", \"gradnorm\", \"react\", \"mls\", \"klm\", \"vim\", \"knn\", \"dice\", \"rankfeat\", \"ash\", \"she\"] {allow-input: true}"
   ]
  },
  {
   "cell_type": "code",
   "execution_count": 7,
   "metadata": {},
   "outputs": [
    {
     "name": "stderr",
     "output_type": "stream",
     "text": [
      "Downloading...\n",
      "From (uriginal): https://drive.google.com/uc?id=1XKzBdWCqg3vPoj-D32YixJyJJ0hL63gP\n",
      "From (redirected): https://drive.google.com/uc?id=1XKzBdWCqg3vPoj-D32YixJyJJ0hL63gP&confirm=t&uuid=b6930b3e-a063-409a-8c0c-ab85b6e129df\n",
      "To: /home/nazir/datasets/openood/benchmark_imglist.zip\n",
      "100%|██████████| 27.7M/27.7M [00:04<00:00, 6.13MB/s]\n"
     ]
    },
    {
     "name": "stdout",
     "output_type": "stream",
     "text": [
      "cifar10 needs download:\n",
      "/home/nazir/datasets/openood/images_classic/cifar10\n"
     ]
    },
    {
     "name": "stderr",
     "output_type": "stream",
     "text": [
      "Downloading...\n",
      "From (uriginal): https://drive.google.com/uc?id=1Co32RiiWe16lTaiOU6JMMnyUYS41IlO1\n",
      "From (redirected): https://drive.google.com/uc?id=1Co32RiiWe16lTaiOU6JMMnyUYS41IlO1&confirm=t&uuid=e801abf3-6e44-4f53-a3fb-0b30d61d6ce8\n",
      "To: /home/nazir/datasets/openood/images_classic/cifar10/cifar10.zip\n",
      "100%|██████████| 143M/143M [00:24<00:00, 5.94MB/s] \n"
     ]
    },
    {
     "name": "stdout",
     "output_type": "stream",
     "text": [
      "cifar100 needs download:\n",
      "/home/nazir/datasets/openood/images_classic/cifar100\n"
     ]
    },
    {
     "name": "stderr",
     "output_type": "stream",
     "text": [
      "Downloading...\n",
      "From (uriginal): https://drive.google.com/uc?id=1PGKheHUsf29leJPPGuXqzLBMwl8qMF8_\n",
      "From (redirected): https://drive.google.com/uc?id=1PGKheHUsf29leJPPGuXqzLBMwl8qMF8_&confirm=t&uuid=e0a9aa29-6bd8-4083-b9d6-4d4d16d42c2e\n",
      "To: /home/nazir/datasets/openood/images_classic/cifar100/cifar100.zip\n",
      "100%|██████████| 141M/141M [00:24<00:00, 5.81MB/s] \n"
     ]
    },
    {
     "name": "stdout",
     "output_type": "stream",
     "text": [
      "tin needs download:\n",
      "/home/nazir/datasets/openood/images_classic/tin\n"
     ]
    },
    {
     "name": "stderr",
     "output_type": "stream",
     "text": [
      "Downloading...\n",
      "From (uriginal): https://drive.google.com/uc?id=1PZ-ixyx52U989IKsMA2OT-24fToTrelC\n",
      "From (redirected): https://drive.google.com/uc?id=1PZ-ixyx52U989IKsMA2OT-24fToTrelC&confirm=t&uuid=5f9a3f2e-51a6-419d-92b3-2fd14e12c84a\n",
      "To: /home/nazir/datasets/openood/images_classic/tin/tin.zip\n",
      "100%|██████████| 237M/237M [00:40<00:00, 5.91MB/s] \n"
     ]
    },
    {
     "name": "stdout",
     "output_type": "stream",
     "text": [
      "mnist needs download:\n",
      "/home/nazir/datasets/openood/images_classic/mnist\n"
     ]
    },
    {
     "name": "stderr",
     "output_type": "stream",
     "text": [
      "Downloading...\n",
      "From (uriginal): https://drive.google.com/uc?id=1CCHAGWqA1KJTFFswuF9cbhmB-j98Y1Sb\n",
      "From (redirected): https://drive.google.com/uc?id=1CCHAGWqA1KJTFFswuF9cbhmB-j98Y1Sb&confirm=t&uuid=e0bf026f-098f-41e6-a3bb-928ab5dc5ede\n",
      "To: /home/nazir/datasets/openood/images_classic/mnist/mnist.zip\n",
      "100%|██████████| 47.2M/47.2M [00:07<00:00, 5.94MB/s]\n"
     ]
    },
    {
     "name": "stdout",
     "output_type": "stream",
     "text": [
      "svhn needs download:\n",
      "/home/nazir/datasets/openood/images_classic/svhn\n"
     ]
    },
    {
     "name": "stderr",
     "output_type": "stream",
     "text": [
      "Downloading...\n",
      "From: https://drive.google.com/uc?id=1DQfc11HOtB1nEwqS4pWUFp8vtQ3DczvI\n",
      "To: /home/nazir/datasets/openood/images_classic/svhn/svhn.zip\n",
      "100%|██████████| 19.0M/19.0M [00:03<00:00, 6.32MB/s]\n"
     ]
    },
    {
     "name": "stdout",
     "output_type": "stream",
     "text": [
      "texture needs download:\n",
      "/home/nazir/datasets/openood/images_classic/texture\n"
     ]
    },
    {
     "name": "stderr",
     "output_type": "stream",
     "text": [
      "Downloading...\n",
      "From (uriginal): https://drive.google.com/uc?id=1OSz1m3hHfVWbRdmMwKbUzoU8Hg9UKcam\n",
      "From (redirected): https://drive.google.com/uc?id=1OSz1m3hHfVWbRdmMwKbUzoU8Hg9UKcam&confirm=t&uuid=f9104bd6-abc9-4eb0-8c11-46e6e77531e8\n",
      "To: /home/nazir/datasets/openood/images_classic/texture/texture.zip\n",
      "100%|██████████| 626M/626M [01:46<00:00, 5.87MB/s] \n"
     ]
    },
    {
     "name": "stdout",
     "output_type": "stream",
     "text": [
      "places365 needs download:\n",
      "/home/nazir/datasets/openood/images_classic/places365\n"
     ]
    },
    {
     "name": "stderr",
     "output_type": "stream",
     "text": [
      "Downloading...\n",
      "From (uriginal): https://drive.google.com/uc?id=1Ec-LRSTf6u5vEctKX9vRp9OA6tqnJ0Ay\n",
      "From (redirected): https://drive.google.com/uc?id=1Ec-LRSTf6u5vEctKX9vRp9OA6tqnJ0Ay&confirm=t&uuid=c270b0e3-328d-43f6-adf3-e8b396f9dcbc\n",
      "To: /home/nazir/datasets/openood/images_classic/places365/places365.zip\n",
      "100%|██████████| 497M/497M [01:27<00:00, 5.70MB/s] \n",
      "Setup: 100%|██████████| 5/5 [00:58<00:00, 11.66s/it]\n"
     ]
    },
    {
     "name": "stdout",
     "output_type": "stream",
     "text": [
      "Starting automatic parameter search...\n",
      "Threshold at percentile 85 over id data is: 0.35607139021158213\n"
     ]
    },
    {
     "name": "stderr",
     "output_type": "stream",
     "text": [
      "100%|██████████| 5/5 [00:01<00:00,  3.22it/s]\n",
      "100%|██████████| 5/5 [00:01<00:00,  4.20it/s]\n"
     ]
    },
    {
     "name": "stdout",
     "output_type": "stream",
     "text": [
      "Hyperparam: [85], auroc: 0.820525\n",
      "Threshold at percentile 90 over id data is: 0.4522462278604508\n"
     ]
    },
    {
     "name": "stderr",
     "output_type": "stream",
     "text": [
      "100%|██████████| 5/5 [00:00<00:00,  6.60it/s]\n",
      "100%|██████████| 5/5 [00:00<00:00,  5.40it/s]\n"
     ]
    },
    {
     "name": "stdout",
     "output_type": "stream",
     "text": [
      "Hyperparam: [90], auroc: 0.839691\n",
      "Threshold at percentile 95 over id data is: 0.6211137592792508\n"
     ]
    },
    {
     "name": "stderr",
     "output_type": "stream",
     "text": [
      "100%|██████████| 5/5 [00:01<00:00,  4.99it/s]\n",
      "100%|██████████| 5/5 [00:00<00:00,  6.60it/s]\n"
     ]
    },
    {
     "name": "stdout",
     "output_type": "stream",
     "text": [
      "Hyperparam: [95], auroc: 0.8606719999999999\n",
      "Threshold at percentile 99 over id data is: 1.051611033678055\n"
     ]
    },
    {
     "name": "stderr",
     "output_type": "stream",
     "text": [
      "100%|██████████| 5/5 [00:00<00:00,  6.62it/s]\n",
      "100%|██████████| 5/5 [00:00<00:00,  6.38it/s]"
     ]
    },
    {
     "name": "stdout",
     "output_type": "stream",
     "text": [
      "Hyperparam: [99], auroc: 0.8794679999999999\n",
      "Threshold at percentile 99 over id data is: 1.051611033678055\n",
      "Final hyperparam: 99\n"
     ]
    },
    {
     "name": "stderr",
     "output_type": "stream",
     "text": [
      "\n"
     ]
    }
   ],
   "source": [
    "evaluator = Evaluator(\n",
    "    net,\n",
    "    id_name='cifar10',                     # the target ID dataset\n",
    "    data_root='/home/nazir/datasets/openood/',                    # change if necessary\n",
    "    config_root=None,                      # see notes above\n",
    "    preprocessor=None,                     # default preprocessing for the target ID dataset\n",
    "    postprocessor_name=postprocessor_name, # the postprocessor to use\n",
    "    postprocessor=None,                    # if you want to use your own postprocessor\n",
    "    batch_size=200,                        # for certain methods the results can be slightly affected by batch size\n",
    "    shuffle=False,\n",
    "    num_workers=20)        "
   ]
  },
  {
   "cell_type": "code",
   "execution_count": 8,
   "metadata": {},
   "outputs": [
    {
     "name": "stdout",
     "output_type": "stream",
     "text": [
      "Performing inference on cifar10 test set...\n"
     ]
    },
    {
     "name": "stderr",
     "output_type": "stream",
     "text": [
      "100%|██████████| 45/45 [00:02<00:00, 18.60it/s]"
     ]
    },
    {
     "name": "stdout",
     "output_type": "stream",
     "text": [
      "Processing near ood...\n",
      "Performing inference on cifar100 dataset...\n"
     ]
    },
    {
     "name": "stderr",
     "output_type": "stream",
     "text": [
      "\n",
      "100%|██████████| 45/45 [00:01<00:00, 31.42it/s]\n"
     ]
    },
    {
     "name": "stdout",
     "output_type": "stream",
     "text": [
      "Computing metrics on cifar100 dataset...\n",
      "FPR@95: 53.40, AUROC: 85.24 AUPR_IN: 80.67, AUPR_OUT: 85.83\n",
      "CCR: 0.07, 0.62, 4.57, 51.41, ──────────────────────────────────────────────────────────────────────\n",
      "\n",
      "Performing inference on tin dataset...\n"
     ]
    },
    {
     "name": "stderr",
     "output_type": "stream",
     "text": [
      "100%|██████████| 39/39 [00:01<00:00, 27.98it/s]\n"
     ]
    },
    {
     "name": "stdout",
     "output_type": "stream",
     "text": [
      "Computing metrics on tin dataset...\n",
      "FPR@95: 46.98, AUROC: 87.70 AUPR_IN: 85.16, AUPR_OUT: 86.93\n",
      "CCR: 0.07, 0.41, 5.51, 64.48, ──────────────────────────────────────────────────────────────────────\n",
      "\n",
      "Computing mean metrics...\n",
      "FPR@95: 50.19, AUROC: 86.47 AUPR_IN: 82.91, AUPR_OUT: 86.38\n",
      "CCR: 0.07, 0.52, 5.04, 57.94, ──────────────────────────────────────────────────────────────────────\n",
      "\n",
      "Processing far ood...\n",
      "Performing inference on mnist dataset...\n"
     ]
    },
    {
     "name": "stderr",
     "output_type": "stream",
     "text": [
      "100%|██████████| 350/350 [00:06<00:00, 51.35it/s]\n"
     ]
    },
    {
     "name": "stdout",
     "output_type": "stream",
     "text": [
      "Computing metrics on mnist dataset...\n",
      "FPR@95: 23.35, AUROC: 95.38 AUPR_IN: 75.86, AUPR_OUT: 99.31\n",
      "CCR: 2.60, 7.39, 38.62, 87.31, ──────────────────────────────────────────────────────────────────────\n",
      "\n",
      "Performing inference on svhn dataset...\n"
     ]
    },
    {
     "name": "stderr",
     "output_type": "stream",
     "text": [
      "100%|██████████| 131/131 [00:03<00:00, 40.12it/s]"
     ]
    },
    {
     "name": "stdout",
     "output_type": "stream",
     "text": [
      "Computing metrics on svhn dataset...\n",
      "FPR@95: 48.96, AUROC: 90.01 AUPR_IN: 75.58, AUPR_OUT: 95.45\n",
      "CCR: 0.57, 3.34, 15.87, 77.03, ──────────────────────────────────────────────────────────────────────\n",
      "\n",
      "Performing inference on texture dataset...\n"
     ]
    },
    {
     "name": "stderr",
     "output_type": "stream",
     "text": [
      "\n",
      "100%|██████████| 29/29 [00:04<00:00,  7.02it/s]"
     ]
    },
    {
     "name": "stdout",
     "output_type": "stream",
     "text": [
      "Computing metrics on texture dataset...\n",
      "FPR@95: 49.24, AUROC: 87.27 AUPR_IN: 88.35, AUPR_OUT: 82.30\n",
      "CCR: 0.02, 0.26, 5.11, 62.86, ──────────────────────────────────────────────────────────────────────\n",
      "\n",
      "Performing inference on places365 dataset...\n"
     ]
    },
    {
     "name": "stderr",
     "output_type": "stream",
     "text": [
      "\n",
      "100%|██████████| 176/176 [00:04<00:00, 35.85it/s]"
     ]
    },
    {
     "name": "stdout",
     "output_type": "stream",
     "text": [
      "Computing metrics on places365 dataset...\n",
      "FPR@95: 39.41, AUROC: 91.40 AUPR_IN: 71.91, AUPR_OUT: 97.39\n",
      "CCR: 0.26, 1.91, 16.47, 78.28, ──────────────────────────────────────────────────────────────────────\n",
      "\n",
      "Computing mean metrics...\n",
      "FPR@95: 40.24, AUROC: 91.02 AUPR_IN: 77.92, AUPR_OUT: 93.61\n",
      "CCR: 0.86, 3.23, 19.02, 76.37, ──────────────────────────────────────────────────────────────────────\n",
      "\n"
     ]
    },
    {
     "name": "stderr",
     "output_type": "stream",
     "text": [
      "\n",
      "ID Acc Eval: 100%|██████████| 45/45 [00:01<00:00, 24.17it/s]\n"
     ]
    },
    {
     "name": "stdout",
     "output_type": "stream",
     "text": [
      "           FPR@95  AUROC  AUPR_IN  AUPR_OUT  CCR_4  CCR_3  CCR_2  CCR_1   ACC\n",
      "cifar100    53.40  85.24    80.67     85.83   0.07   0.62   4.57  51.41 95.22\n",
      "tin         46.98  87.70    85.16     86.93   0.07   0.41   5.51  64.48 95.22\n",
      "nearood     50.19  86.47    82.91     86.38   0.07   0.52   5.04  57.94 95.22\n",
      "mnist       23.35  95.38    75.86     99.31   2.60   7.39  38.62  87.31 95.22\n",
      "svhn        48.96  90.01    75.58     95.45   0.57   3.34  15.87  77.03 95.22\n",
      "texture     49.24  87.27    88.35     82.30   0.02   0.26   5.11  62.86 95.22\n",
      "places365   39.41  91.40    71.91     97.39   0.26   1.91  16.47  78.28 95.22\n",
      "farood      40.24  91.02    77.92     93.61   0.86   3.23  19.02  76.37 95.22\n"
     ]
    }
   ],
   "source": [
    "metrics = evaluator.eval_ood(fsood=False)"
   ]
  },
  {
   "attachments": {},
   "cell_type": "markdown",
   "metadata": {},
   "source": [
    "# Checking Datasets"
   ]
  },
  {
   "cell_type": "code",
   "execution_count": 36,
   "metadata": {},
   "outputs": [],
   "source": [
    "id_name = 'cifar10'\n",
    "data_root = '/home/nazir/datasets/openood/'\n",
    "preprocessor = get_default_preprocessor(id_name)\n",
    "loader_kwargs = {'batch_size': 200, 'shuffle': False, 'num_workers': 20}\n",
    "dataloader_dict = get_id_ood_dataloader(id_name, data_root, preprocessor, **loader_kwargs)"
   ]
  },
  {
   "cell_type": "code",
   "execution_count": 11,
   "metadata": {},
   "outputs": [
    {
     "data": {
      "text/plain": [
       "dict_keys(['id', 'csid', 'ood'])"
      ]
     },
     "execution_count": 11,
     "metadata": {},
     "output_type": "execute_result"
    }
   ],
   "source": [
    "dataloader_dict.keys()"
   ]
  },
  {
   "cell_type": "code",
   "execution_count": 15,
   "metadata": {},
   "outputs": [
    {
     "data": {
      "text/plain": [
       "(50000, 1000, 9000)"
      ]
     },
     "execution_count": 15,
     "metadata": {},
     "output_type": "execute_result"
    }
   ],
   "source": [
    "len(dataloader_dict[\"id\"][\"train\"].dataset), len(dataloader_dict[\"id\"][\"val\"].dataset), len(dataloader_dict[\"id\"][\"test\"].dataset)"
   ]
  },
  {
   "cell_type": "code",
   "execution_count": 17,
   "metadata": {},
   "outputs": [
    {
     "data": {
      "text/plain": [
       "dict_keys(['val', 'near', 'far'])"
      ]
     },
     "execution_count": 17,
     "metadata": {},
     "output_type": "execute_result"
    }
   ],
   "source": [
    "dataloader_dict[\"ood\"].keys()"
   ]
  },
  {
   "cell_type": "code",
   "execution_count": 19,
   "metadata": {},
   "outputs": [
    {
     "data": {
      "text/plain": [
       "1000"
      ]
     },
     "execution_count": 19,
     "metadata": {},
     "output_type": "execute_result"
    }
   ],
   "source": [
    "len(dataloader_dict[\"ood\"][\"val\"].dataset)"
   ]
  },
  {
   "cell_type": "code",
   "execution_count": 22,
   "metadata": {},
   "outputs": [
    {
     "data": {
      "text/plain": [
       "(9000, 7793)"
      ]
     },
     "execution_count": 22,
     "metadata": {},
     "output_type": "execute_result"
    }
   ],
   "source": [
    "len(dataloader_dict[\"ood\"][\"near\"][\"cifar100\"].dataset), len(dataloader_dict[\"ood\"][\"near\"][\"tin\"].dataset)"
   ]
  },
  {
   "cell_type": "code",
   "execution_count": 24,
   "metadata": {},
   "outputs": [
    {
     "name": "stdout",
     "output_type": "stream",
     "text": [
      "mnist 70000\n",
      "svhn 26032\n",
      "texture 5640\n",
      "places365 35195\n"
     ]
    }
   ],
   "source": [
    "dataloader_dict[\"ood\"][\"far\"].keys()\n",
    "\n",
    "for key in dataloader_dict[\"ood\"][\"far\"].keys():\n",
    "    print(key, len(dataloader_dict[\"ood\"][\"far\"][key].dataset))"
   ]
  },
  {
   "cell_type": "code",
   "execution_count": 39,
   "metadata": {},
   "outputs": [],
   "source": [
    "x = dataloader_dict[\"ood\"][\"near\"][\"tin\"].dataset[0]"
   ]
  },
  {
   "cell_type": "code",
   "execution_count": 44,
   "metadata": {},
   "outputs": [
    {
     "data": {
      "text/plain": [
       "dict_keys(['image_name', 'data', 'data_aux', 'label', 'soft_label', 'index', 'pseudo'])"
      ]
     },
     "execution_count": 44,
     "metadata": {},
     "output_type": "execute_result"
    }
   ],
   "source": [
    "x.keys()"
   ]
  },
  {
   "cell_type": "code",
   "execution_count": 59,
   "metadata": {},
   "outputs": [
    {
     "data": {
      "text/plain": [
       "0"
      ]
     },
     "execution_count": 59,
     "metadata": {},
     "output_type": "execute_result"
    }
   ],
   "source": [
    "x[\"pseudo\"]"
   ]
  }
 ],
 "metadata": {
  "kernelspec": {
   "display_name": "vae_env",
   "language": "python",
   "name": "python3"
  },
  "language_info": {
   "codemirror_mode": {
    "name": "ipython",
    "version": 3
   },
   "file_extension": ".py",
   "mimetype": "text/x-python",
   "name": "python",
   "nbconvert_exporter": "python",
   "pygments_lexer": "ipython3",
   "version": "3.8.16"
  },
  "orig_nbformat": 4
 },
 "nbformat": 4,
 "nbformat_minor": 2
}
