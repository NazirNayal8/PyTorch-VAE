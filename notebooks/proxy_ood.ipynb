{
 "cells": [
  {
   "cell_type": "code",
   "execution_count": 2,
   "metadata": {},
   "outputs": [],
   "source": [
    "import os\n",
    "os.chdir('../')"
   ]
  },
  {
   "cell_type": "code",
   "execution_count": 1,
   "metadata": {},
   "outputs": [],
   "source": [
    "%load_ext autoreload\n",
    "%autoreload 2"
   ]
  },
  {
   "cell_type": "code",
   "execution_count": 3,
   "metadata": {},
   "outputs": [],
   "source": [
    "import torch\n",
    "import numpy as np\n",
    "import matplotlib.pyplot as plt\n",
    "import seaborn as sns\n",
    "\n",
    "from prior import VQVAEPrior\n",
    "from experiment import VAEXperiment\n",
    "\n",
    "from easydict import EasyDict as edict\n",
    "from analysis.image import show_image\n",
    "from datamodules import DATAMODULES\n",
    "\n",
    "from tqdm import tqdm"
   ]
  },
  {
   "cell_type": "markdown",
   "metadata": {},
   "source": [
    "# Loading Model"
   ]
  },
  {
   "cell_type": "code",
   "execution_count": 5,
   "metadata": {},
   "outputs": [],
   "source": [
    "ckpt_path = \"model_logs/codebook/CIFAR10/codebook_512_32/best.ckpt\"\n",
    "ckpt = torch.load(ckpt_path, map_location=\"cpu\")\n",
    "hparams = edict(ckpt[\"hyper_parameters\"])\n",
    "model = VAEXperiment(hparams)\n",
    "model.load_state_dict(ckpt[\"state_dict\"])\n",
    "\n",
    "_ = model.eval()\n",
    "_ = model.to(\"cuda\")\n"
   ]
  },
  {
   "cell_type": "code",
   "execution_count": 6,
   "metadata": {},
   "outputs": [
    {
     "data": {
      "text/plain": [
       "VAEXperiment(\n",
       "  (model): VQVAE_V2(\n",
       "    (encoder): Encoder(\n",
       "      (_conv_1): Conv2d(3, 64, kernel_size=(4, 4), stride=(2, 2), padding=(1, 1))\n",
       "      (_conv_2): Conv2d(64, 128, kernel_size=(4, 4), stride=(2, 2), padding=(1, 1))\n",
       "      (_conv_3): Conv2d(128, 128, kernel_size=(3, 3), stride=(1, 1), padding=(1, 1))\n",
       "      (_residual_stack): ResidualStack(\n",
       "        (_layers): ModuleList(\n",
       "          (0): ResidualLayer(\n",
       "            (resblock): Sequential(\n",
       "              (0): ReLU(inplace=True)\n",
       "              (1): Conv2d(128, 32, kernel_size=(3, 3), stride=(1, 1), padding=(1, 1), bias=False)\n",
       "              (2): ReLU(inplace=True)\n",
       "              (3): Conv2d(32, 128, kernel_size=(1, 1), stride=(1, 1), bias=False)\n",
       "            )\n",
       "          )\n",
       "          (1): ResidualLayer(\n",
       "            (resblock): Sequential(\n",
       "              (0): ReLU(inplace=True)\n",
       "              (1): Conv2d(128, 32, kernel_size=(3, 3), stride=(1, 1), padding=(1, 1), bias=False)\n",
       "              (2): ReLU(inplace=True)\n",
       "              (3): Conv2d(32, 128, kernel_size=(1, 1), stride=(1, 1), bias=False)\n",
       "            )\n",
       "          )\n",
       "        )\n",
       "      )\n",
       "    )\n",
       "    (pre_vq_conv): Conv2d(128, 32, kernel_size=(1, 1), stride=(1, 1))\n",
       "    (vq): VectorQuantizerEMA(\n",
       "      (_embedding): Embedding(512, 32)\n",
       "    )\n",
       "    (decoder): Decoder(\n",
       "      (_conv_1): Conv2d(32, 128, kernel_size=(3, 3), stride=(1, 1), padding=(1, 1))\n",
       "      (_residual_stack): ResidualStack(\n",
       "        (_layers): ModuleList(\n",
       "          (0): ResidualLayer(\n",
       "            (resblock): Sequential(\n",
       "              (0): ReLU(inplace=True)\n",
       "              (1): Conv2d(128, 32, kernel_size=(3, 3), stride=(1, 1), padding=(1, 1), bias=False)\n",
       "              (2): ReLU(inplace=True)\n",
       "              (3): Conv2d(32, 128, kernel_size=(1, 1), stride=(1, 1), bias=False)\n",
       "            )\n",
       "          )\n",
       "          (1): ResidualLayer(\n",
       "            (resblock): Sequential(\n",
       "              (0): ReLU(inplace=True)\n",
       "              (1): Conv2d(128, 32, kernel_size=(3, 3), stride=(1, 1), padding=(1, 1), bias=False)\n",
       "              (2): ReLU(inplace=True)\n",
       "              (3): Conv2d(32, 128, kernel_size=(1, 1), stride=(1, 1), bias=False)\n",
       "            )\n",
       "          )\n",
       "        )\n",
       "      )\n",
       "      (_conv_trans_1): ConvTranspose2d(128, 64, kernel_size=(4, 4), stride=(2, 2), padding=(1, 1))\n",
       "      (_conv_trans_2): ConvTranspose2d(64, 3, kernel_size=(4, 4), stride=(2, 2), padding=(1, 1))\n",
       "    )\n",
       "  )\n",
       ")"
      ]
     },
     "execution_count": 6,
     "metadata": {},
     "output_type": "execute_result"
    }
   ],
   "source": []
  }
 ],
 "metadata": {
  "kernelspec": {
   "display_name": "vae_env",
   "language": "python",
   "name": "python3"
  },
  "language_info": {
   "codemirror_mode": {
    "name": "ipython",
    "version": 3
   },
   "file_extension": ".py",
   "mimetype": "text/x-python",
   "name": "python",
   "nbconvert_exporter": "python",
   "pygments_lexer": "ipython3",
   "version": "3.8.16"
  },
  "orig_nbformat": 4
 },
 "nbformat": 4,
 "nbformat_minor": 2
}
